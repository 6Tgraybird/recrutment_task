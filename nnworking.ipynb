{
 "cells": [
  {
   "cell_type": "code",
   "execution_count": null,
   "id": "03278a30-0bfd-444a-8ac1-e59977f2b9cd",
   "metadata": {},
   "outputs": [],
   "source": [
    "##### working of a neural network \n",
    "we give our network a input and output file and then we design a program with the help of weights and biases and activation function such that our network can use the input file such that 70% of our data is used in training and remaining is used in testing \n",
    "\n",
    "our neural network does have neurons at each layer which connects to each neurons in other layer which make them dense.\n",
    "\n",
    "weights are decided by backpropogation method:- \n",
    "our network uses the weights randomly and then it learns and modifies the weights to increase the accuracy \n",
    "a good neural network minimises the cut off or loss fucntion and maximise the accuracy"
   ]
  },
  {
   "cell_type": "code",
   "execution_count": null,
   "id": "d531414c-1bd8-430b-b58e-1c55a6ebd7fe",
   "metadata": {},
   "outputs": [],
   "source": []
  }
 ],
 "metadata": {
  "kernelspec": {
   "display_name": "Python 3 (ipykernel)",
   "language": "python",
   "name": "python3"
  },
  "language_info": {
   "codemirror_mode": {
    "name": "ipython",
    "version": 3
   },
   "file_extension": ".py",
   "mimetype": "text/x-python",
   "name": "python",
   "nbconvert_exporter": "python",
   "pygments_lexer": "ipython3",
   "version": "3.9.12"
  }
 },
 "nbformat": 4,
 "nbformat_minor": 5
}
