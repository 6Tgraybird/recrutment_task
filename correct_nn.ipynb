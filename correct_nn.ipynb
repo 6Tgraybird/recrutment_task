{
 "cells": [
  {
   "cell_type": "code",
   "execution_count": 1,
   "id": "12562402-9ed7-49df-9d38-b6d9fec26718",
   "metadata": {},
   "outputs": [],
   "source": [
    "import pandas as pd\n",
    "import tensorflow as tf"
   ]
  },
  {
   "cell_type": "code",
   "execution_count": 4,
   "id": "a68a8f3a-20d4-4e45-8d7e-94ddb271bc95",
   "metadata": {},
   "outputs": [],
   "source": [
    "data = pd.read_csv(r\"C:\\Users\\honey\\Desktop\\file.csv\")"
   ]
  },
  {
   "cell_type": "code",
   "execution_count": 18,
   "id": "e0493ad4-89e0-45de-af70-8cf6cc0ba534",
   "metadata": {},
   "outputs": [],
   "source": [
    "col_for_norm=['cigg_per_day','haemoglobin_concentration_per_deciletre','years_of_smoking','heart_beat_deviation','percentage_of_choked_pipe','percentage_of_lungs_infected']\n",
    "data[col_for_norm]=data[col_for_norm].apply(lambda x:(x-x.min())/(x.max()-x.min()))"
   ]
  },
  {
   "cell_type": "code",
   "execution_count": 19,
   "id": "edb9766c-44ab-4597-8284-0737825145c9",
   "metadata": {},
   "outputs": [
    {
     "data": {
      "text/html": [
       "<div>\n",
       "<style scoped>\n",
       "    .dataframe tbody tr th:only-of-type {\n",
       "        vertical-align: middle;\n",
       "    }\n",
       "\n",
       "    .dataframe tbody tr th {\n",
       "        vertical-align: top;\n",
       "    }\n",
       "\n",
       "    .dataframe thead th {\n",
       "        text-align: right;\n",
       "    }\n",
       "</style>\n",
       "<table border=\"1\" class=\"dataframe\">\n",
       "  <thead>\n",
       "    <tr style=\"text-align: right;\">\n",
       "      <th></th>\n",
       "      <th>cigg_per_day</th>\n",
       "      <th>haemoglobin_concentration_per_deciletre</th>\n",
       "      <th>years_of_smoking</th>\n",
       "      <th>heart_beat_deviation</th>\n",
       "      <th>percentage_of_choked_pipe</th>\n",
       "      <th>percentage_of_lungs_infected</th>\n",
       "    </tr>\n",
       "  </thead>\n",
       "  <tbody>\n",
       "    <tr>\n",
       "      <th>0</th>\n",
       "      <td>0.714286</td>\n",
       "      <td>0.533333</td>\n",
       "      <td>0.333333</td>\n",
       "      <td>0.75</td>\n",
       "      <td>0.787879</td>\n",
       "      <td>0.642857</td>\n",
       "    </tr>\n",
       "    <tr>\n",
       "      <th>1</th>\n",
       "      <td>0.142857</td>\n",
       "      <td>0.100000</td>\n",
       "      <td>0.000000</td>\n",
       "      <td>0.15</td>\n",
       "      <td>0.151515</td>\n",
       "      <td>0.285714</td>\n",
       "    </tr>\n",
       "    <tr>\n",
       "      <th>2</th>\n",
       "      <td>0.285714</td>\n",
       "      <td>0.433333</td>\n",
       "      <td>1.000000</td>\n",
       "      <td>0.75</td>\n",
       "      <td>0.636364</td>\n",
       "      <td>0.785714</td>\n",
       "    </tr>\n",
       "    <tr>\n",
       "      <th>3</th>\n",
       "      <td>0.000000</td>\n",
       "      <td>0.000000</td>\n",
       "      <td>0.000000</td>\n",
       "      <td>0.00</td>\n",
       "      <td>0.000000</td>\n",
       "      <td>0.000000</td>\n",
       "    </tr>\n",
       "    <tr>\n",
       "      <th>4</th>\n",
       "      <td>0.571429</td>\n",
       "      <td>0.880000</td>\n",
       "      <td>1.000000</td>\n",
       "      <td>0.85</td>\n",
       "      <td>0.878788</td>\n",
       "      <td>1.000000</td>\n",
       "    </tr>\n",
       "  </tbody>\n",
       "</table>\n",
       "</div>"
      ],
      "text/plain": [
       "   cigg_per_day  haemoglobin_concentration_per_deciletre  years_of_smoking  \\\n",
       "0      0.714286                                 0.533333          0.333333   \n",
       "1      0.142857                                 0.100000          0.000000   \n",
       "2      0.285714                                 0.433333          1.000000   \n",
       "3      0.000000                                 0.000000          0.000000   \n",
       "4      0.571429                                 0.880000          1.000000   \n",
       "\n",
       "   heart_beat_deviation  percentage_of_choked_pipe  \\\n",
       "0                  0.75                   0.787879   \n",
       "1                  0.15                   0.151515   \n",
       "2                  0.75                   0.636364   \n",
       "3                  0.00                   0.000000   \n",
       "4                  0.85                   0.878788   \n",
       "\n",
       "   percentage_of_lungs_infected  \n",
       "0                      0.642857  \n",
       "1                      0.285714  \n",
       "2                      0.785714  \n",
       "3                      0.000000  \n",
       "4                      1.000000  "
      ]
     },
     "execution_count": 19,
     "metadata": {},
     "output_type": "execute_result"
    }
   ],
   "source": [
    "data.head()"
   ]
  },
  {
   "cell_type": "code",
   "execution_count": 23,
   "id": "eff44473-fa50-49a9-8e7f-3aa6dbd98785",
   "metadata": {},
   "outputs": [
    {
     "data": {
      "text/html": [
       "<div>\n",
       "<style scoped>\n",
       "    .dataframe tbody tr th:only-of-type {\n",
       "        vertical-align: middle;\n",
       "    }\n",
       "\n",
       "    .dataframe tbody tr th {\n",
       "        vertical-align: top;\n",
       "    }\n",
       "\n",
       "    .dataframe thead th {\n",
       "        text-align: right;\n",
       "    }\n",
       "</style>\n",
       "<table border=\"1\" class=\"dataframe\">\n",
       "  <thead>\n",
       "    <tr style=\"text-align: right;\">\n",
       "      <th></th>\n",
       "      <th>cigg_per_day</th>\n",
       "      <th>haemoglobin_concentration_per_deciletre</th>\n",
       "      <th>years_of_smoking</th>\n",
       "      <th>heart_beat_deviation</th>\n",
       "      <th>percentage_of_choked_pipe</th>\n",
       "      <th>percentage_of_lungs_infected</th>\n",
       "    </tr>\n",
       "  </thead>\n",
       "  <tbody>\n",
       "    <tr>\n",
       "      <th>0</th>\n",
       "      <td>0.714286</td>\n",
       "      <td>0.533333</td>\n",
       "      <td>0.333333</td>\n",
       "      <td>0.75</td>\n",
       "      <td>0.787879</td>\n",
       "      <td>0.642857</td>\n",
       "    </tr>\n",
       "    <tr>\n",
       "      <th>1</th>\n",
       "      <td>0.142857</td>\n",
       "      <td>0.100000</td>\n",
       "      <td>0.000000</td>\n",
       "      <td>0.15</td>\n",
       "      <td>0.151515</td>\n",
       "      <td>0.285714</td>\n",
       "    </tr>\n",
       "    <tr>\n",
       "      <th>2</th>\n",
       "      <td>0.285714</td>\n",
       "      <td>0.433333</td>\n",
       "      <td>1.000000</td>\n",
       "      <td>0.75</td>\n",
       "      <td>0.636364</td>\n",
       "      <td>0.785714</td>\n",
       "    </tr>\n",
       "    <tr>\n",
       "      <th>3</th>\n",
       "      <td>0.000000</td>\n",
       "      <td>0.000000</td>\n",
       "      <td>0.000000</td>\n",
       "      <td>0.00</td>\n",
       "      <td>0.000000</td>\n",
       "      <td>0.000000</td>\n",
       "    </tr>\n",
       "    <tr>\n",
       "      <th>4</th>\n",
       "      <td>0.571429</td>\n",
       "      <td>0.880000</td>\n",
       "      <td>1.000000</td>\n",
       "      <td>0.85</td>\n",
       "      <td>0.878788</td>\n",
       "      <td>1.000000</td>\n",
       "    </tr>\n",
       "  </tbody>\n",
       "</table>\n",
       "</div>"
      ],
      "text/plain": [
       "   cigg_per_day  haemoglobin_concentration_per_deciletre  years_of_smoking  \\\n",
       "0      0.714286                                 0.533333          0.333333   \n",
       "1      0.142857                                 0.100000          0.000000   \n",
       "2      0.285714                                 0.433333          1.000000   \n",
       "3      0.000000                                 0.000000          0.000000   \n",
       "4      0.571429                                 0.880000          1.000000   \n",
       "\n",
       "   heart_beat_deviation  percentage_of_choked_pipe  \\\n",
       "0                  0.75                   0.787879   \n",
       "1                  0.15                   0.151515   \n",
       "2                  0.75                   0.636364   \n",
       "3                  0.00                   0.000000   \n",
       "4                  0.85                   0.878788   \n",
       "\n",
       "   percentage_of_lungs_infected  \n",
       "0                      0.642857  \n",
       "1                      0.285714  \n",
       "2                      0.785714  \n",
       "3                      0.000000  \n",
       "4                      1.000000  "
      ]
     },
     "execution_count": 23,
     "metadata": {},
     "output_type": "execute_result"
    }
   ],
   "source": [
    "datas = pd.read_csv(r\"C:\\Users\\honey\\Desktop\\file.csv\")\n",
    "labels=datas.pop('case')\n",
    "labels.head()\n",
    "data.head()"
   ]
  },
  {
   "cell_type": "code",
   "execution_count": 24,
   "id": "527f954d-0062-45c2-9138-38da161ba08d",
   "metadata": {},
   "outputs": [],
   "source": [
    "from sklearn.model_selection import train_test_split\n",
    "train_x,test_x,train_y,test_y=train_test_split(data,labels)"
   ]
  },
  {
   "cell_type": "code",
   "execution_count": 25,
   "id": "cbb16652-474b-442b-88c0-d66336da632f",
   "metadata": {},
   "outputs": [
    {
     "data": {
      "text/plain": [
       "(5, 6)"
      ]
     },
     "execution_count": 25,
     "metadata": {},
     "output_type": "execute_result"
    }
   ],
   "source": [
    "train_x.shape"
   ]
  },
  {
   "cell_type": "code",
   "execution_count": 26,
   "id": "c5f270af-b7fe-4725-a8b4-3297703605f8",
   "metadata": {},
   "outputs": [],
   "source": [
    "cigg_per_day=tf.feature_column.numeric_column('cigg_per_day')\n",
    "haemoglobin_concentration=tf.feature_column.numeric_column('haemoglobin_concentration_per_deciletre')\n",
    "years_of_smoking=tf.feature_column.numeric_column('years_of_smoking')\n",
    "heart_beat_deviation=tf.feature_column.numeric_column('heart_beat_deviation')\n",
    "percentage_of_choked_pipe=tf.feature_column.numeric_column('percentage_of_choked_pipe')\n",
    "percentage_of_lungs_infected=tf.feature_column.numeric_column('percentage_of_lungs_infected')"
   ]
  },
  {
   "cell_type": "code",
   "execution_count": 27,
   "id": "4472b09b-6cf7-4348-833b-5ed956dfacb9",
   "metadata": {},
   "outputs": [],
   "source": [
    "feat_cols=[cigg_per_day,haemoglobin_concentration,years_of_smoking,heart_beat_deviation,percentage_of_choked_pipe,percentage_of_lungs_infected]"
   ]
  },
  {
   "cell_type": "code",
   "execution_count": 37,
   "id": "d00d2684-299e-4da3-a9f8-c0c3b5466102",
   "metadata": {},
   "outputs": [
    {
     "name": "stdout",
     "output_type": "stream",
     "text": [
      "INFO:tensorflow:Using default config.\n",
      "WARNING:tensorflow:Using temporary folder as model directory: C:\\Users\\honey\\AppData\\Local\\Temp\\tmpzdajco93\n",
      "INFO:tensorflow:Using config: {'_model_dir': 'C:\\\\Users\\\\honey\\\\AppData\\\\Local\\\\Temp\\\\tmpzdajco93', '_tf_random_seed': None, '_save_summary_steps': 100, '_save_checkpoints_steps': None, '_save_checkpoints_secs': 600, '_session_config': allow_soft_placement: true\n",
      "graph_options {\n",
      "  rewrite_options {\n",
      "    meta_optimizer_iterations: ONE\n",
      "  }\n",
      "}\n",
      ", '_keep_checkpoint_max': 5, '_keep_checkpoint_every_n_hours': 10000, '_log_step_count_steps': 100, '_train_distribute': None, '_device_fn': None, '_protocol': None, '_eval_distribute': None, '_experimental_distribute': None, '_experimental_max_worker_delay_secs': None, '_session_creation_timeout_secs': 7200, '_checkpoint_save_graph_def': True, '_service': None, '_cluster_spec': ClusterSpec({}), '_task_type': 'worker', '_task_id': 0, '_global_id_in_cluster': 0, '_master': '', '_evaluation_master': '', '_is_chief': True, '_num_ps_replicas': 0, '_num_worker_replicas': 1}\n"
     ]
    }
   ],
   "source": [
    "classifier=tf.estimator.LinearClassifier(feature_columns=feat_cols,n_classes=6)"
   ]
  },
  {
   "cell_type": "code",
   "execution_count": 38,
   "id": "5700ee4f-9375-4bfc-a1d5-5c8fc627ffff",
   "metadata": {},
   "outputs": [],
   "source": [
    "input_fn=tf.compat.v1.estimator.inputs.pandas_input_fn(x=train_x,y=train_y,batch_size=2,num_epochs=100,shuffle=True)"
   ]
  },
  {
   "cell_type": "code",
   "execution_count": 44,
   "id": "01e771bd-a6b2-4d5b-a6cf-c0c7b9c88e1f",
   "metadata": {},
   "outputs": [
    {
     "name": "stdout",
     "output_type": "stream",
     "text": [
      "INFO:tensorflow:Calling model_fn.\n",
      "INFO:tensorflow:Done calling model_fn.\n",
      "INFO:tensorflow:Create CheckpointSaverHook.\n",
      "INFO:tensorflow:Graph was finalized.\n",
      "INFO:tensorflow:Restoring parameters from C:\\Users\\honey\\AppData\\Local\\Temp\\tmpzdajco93\\model.ckpt-500\n",
      "INFO:tensorflow:Running local_init_op.\n",
      "INFO:tensorflow:Done running local_init_op.\n",
      "INFO:tensorflow:Calling checkpoint listeners before saving checkpoint 500...\n",
      "INFO:tensorflow:Saving checkpoints for 500 into C:\\Users\\honey\\AppData\\Local\\Temp\\tmpzdajco93\\model.ckpt.\n",
      "INFO:tensorflow:Calling checkpoint listeners after saving checkpoint 500...\n",
      "INFO:tensorflow:loss = 1.2796059, step = 500\n",
      "INFO:tensorflow:Calling checkpoint listeners before saving checkpoint 600...\n",
      "INFO:tensorflow:Saving checkpoints for 600 into C:\\Users\\honey\\AppData\\Local\\Temp\\tmpzdajco93\\model.ckpt.\n",
      "INFO:tensorflow:Calling checkpoint listeners after saving checkpoint 600...\n",
      "INFO:tensorflow:Loss for final step: 0.0986716.\n"
     ]
    },
    {
     "data": {
      "text/plain": [
       "<tensorflow_estimator.python.estimator.canned.linear.LinearClassifierV2 at 0x182d93fb9a0>"
      ]
     },
     "execution_count": 44,
     "metadata": {},
     "output_type": "execute_result"
    }
   ],
   "source": [
    "classifier.train(input_fn,steps=2000)"
   ]
  },
  {
   "cell_type": "code",
   "execution_count": 45,
   "id": "e20d59f1-8f5e-4170-bead-535c66c65c7b",
   "metadata": {},
   "outputs": [],
   "source": [
    "input_fn=tf.compat.v1.estimator.inputs.pandas_input_fn(x=test_x,y=test_y,batch_size=2,num_epochs=1000,shuffle=False)"
   ]
  },
  {
   "cell_type": "code",
   "execution_count": 46,
   "id": "6e77edc2-a428-49e2-8c5f-d631ab8097b9",
   "metadata": {},
   "outputs": [
    {
     "name": "stdout",
     "output_type": "stream",
     "text": [
      "INFO:tensorflow:Calling model_fn.\n",
      "INFO:tensorflow:Done calling model_fn.\n",
      "INFO:tensorflow:Starting evaluation at 2022-07-23T11:05:38\n",
      "INFO:tensorflow:Graph was finalized.\n",
      "INFO:tensorflow:Restoring parameters from C:\\Users\\honey\\AppData\\Local\\Temp\\tmpzdajco93\\model.ckpt-600\n",
      "INFO:tensorflow:Running local_init_op.\n",
      "INFO:tensorflow:Done running local_init_op.\n",
      "INFO:tensorflow:Inference Time : 1.33481s\n",
      "INFO:tensorflow:Finished evaluation at 2022-07-23-11:05:40\n",
      "INFO:tensorflow:Saving dict for global step 600: accuracy = 1.0, average_loss = 0.09800159, global_step = 600, loss = 0.09800159\n",
      "INFO:tensorflow:Saving 'checkpoint_path' summary for global step 600: C:\\Users\\honey\\AppData\\Local\\Temp\\tmpzdajco93\\model.ckpt-600\n"
     ]
    }
   ],
   "source": [
    "res=classifier.evaluate(input_fn)"
   ]
  },
  {
   "cell_type": "code",
   "execution_count": 47,
   "id": "3b56816d-7cf3-40c6-a530-20464b59aab6",
   "metadata": {},
   "outputs": [
    {
     "name": "stdout",
     "output_type": "stream",
     "text": [
      "{'accuracy': 1.0, 'average_loss': 0.09800159, 'loss': 0.09800159, 'global_step': 600}\n"
     ]
    }
   ],
   "source": [
    "print(res)"
   ]
  },
  {
   "cell_type": "code",
   "execution_count": null,
   "id": "1f7dbade-cfc8-4fab-96c3-e545ee3f0813",
   "metadata": {},
   "outputs": [],
   "source": []
  }
 ],
 "metadata": {
  "kernelspec": {
   "display_name": "Python 3 (ipykernel)",
   "language": "python",
   "name": "python3"
  },
  "language_info": {
   "codemirror_mode": {
    "name": "ipython",
    "version": 3
   },
   "file_extension": ".py",
   "mimetype": "text/x-python",
   "name": "python",
   "nbconvert_exporter": "python",
   "pygments_lexer": "ipython3",
   "version": "3.9.12"
  }
 },
 "nbformat": 4,
 "nbformat_minor": 5
}
